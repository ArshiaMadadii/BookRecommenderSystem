{
 "cells": [
  {
   "cell_type": "markdown",
   "id": "89dbfd9e",
   "metadata": {},
   "source": [
    "# Book Recommender System "
   ]
  }
 ],
 "metadata": {
  "kernelspec": {
   "display_name": "BookRecommenderSystem_venv",
   "language": "python",
   "name": "python3"
  },
  "language_info": {
   "name": "python",
   "version": "3.13.3"
  }
 },
 "nbformat": 4,
 "nbformat_minor": 5
}
